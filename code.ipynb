{
 "cells": [
  {
   "cell_type": "code",
   "execution_count": null,
   "metadata": {},
   "outputs": [],
   "source": [
    "import numpy as np\n",
    "import pandas as pd\n",
    "import seaborn as sns\n",
    "import matplotlib.pyplot as plt\n",
    "from warnings import filterwarnings\n",
    "#sns.set_theme()\n",
    "#%config InlineBackend.figure_format = 'retina'\n",
    "\n",
    "import scipy.stats as stats\n",
    "import pylab\n",
    "from imblearn.over_sampling import SMOTE\n",
    "from sklearn.preprocessing import StandardScaler,LabelEncoder\n",
    "from sklearn.feature_selection import SelectFromModel\n",
    "from sklearn.ensemble import ExtraTreesClassifier\n",
    "from sklearn.model_selection import train_test_split \n",
    "from sklearn.linear_model import LogisticRegression \n",
    "from sklearn.metrics import accuracy_score,roc_auc_score,precision_score,recall_score,classification_report,precision_recall_curve,confusion_matrix,roc_curve\n",
    "from sklearn.ensemble import RandomForestClassifier\n",
    "filterwarnings('ignore')"
   ]
  },
  {
   "cell_type": "code",
   "execution_count": null,
   "metadata": {},
   "outputs": [],
   "source": [
    "train='train.csv'\n",
    "df=pd.read_csv(train)\n",
    "df"
   ]
  },
  {
   "cell_type": "code",
   "execution_count": null,
   "metadata": {},
   "outputs": [],
   "source": [
    "df.info()"
   ]
  },
  {
   "cell_type": "code",
   "execution_count": null,
   "metadata": {},
   "outputs": [],
   "source": [
    "df.isnull().sum()"
   ]
  },
  {
   "cell_type": "code",
   "execution_count": null,
   "metadata": {},
   "outputs": [],
   "source": [
    "df.describe(include='all')"
   ]
  },
  {
   "cell_type": "code",
   "execution_count": null,
   "metadata": {},
   "outputs": [],
   "source": [
    "print(df['Age'].mean())\n",
    "print(df['Vehicle_Age'].unique())"
   ]
  },
  {
   "cell_type": "code",
   "execution_count": null,
   "metadata": {},
   "outputs": [],
   "source": [
    "df.duplicated().value_counts().to_frame('values')"
   ]
  },
  {
   "cell_type": "code",
   "execution_count": null,
   "metadata": {},
   "outputs": [],
   "source": [
    "df.drop(['id'],axis=1,inplace=True)\n",
    "df.drop(['Region_Code'],axis=1,inplace=True)\n",
    "df.drop(['Policy_Sales_Channel'],axis=1,inplace=True)"
   ]
  },
  {
   "cell_type": "code",
   "execution_count": null,
   "metadata": {},
   "outputs": [],
   "source": [
    "feature=[ 'Gender', 'Age', 'Driving_License', 'Region_Code',\n",
    "       'Previously_Insured', 'Vehicle_Age', 'Vehicle_Damage', 'Annual_Premium',\n",
    "       'Policy_Sales_Channel', 'Vintage', 'Response']"
   ]
  },
  {
   "cell_type": "code",
   "execution_count": null,
   "metadata": {},
   "outputs": [],
   "source": [
    "df.skew(axis=0).to_frame('Skewed Values')"
   ]
  },
  {
   "cell_type": "code",
   "execution_count": null,
   "metadata": {},
   "outputs": [],
   "source": [
    "sns.countplot(df['Response'],palette=\"viridis\")"
   ]
  },
  {
   "cell_type": "code",
   "execution_count": null,
   "metadata": {},
   "outputs": [],
   "source": [
    "print('Negative Responses %',(df['Response'].value_counts()[0]/len(df))*100)\n",
    "print('Positive Responses %',(df['Response'].value_counts()[1]/len(df))*100)"
   ]
  },
  {
   "cell_type": "code",
   "execution_count": null,
   "metadata": {},
   "outputs": [],
   "source": [
    "plt.figure(figsize = (13,5))\n",
    "plt.subplot(1,2,1)\n",
    "sns.countplot(df['Gender'],palette='husl')\n",
    "plt.title(\"count of male and female\")\n",
    "plt.subplot(1,2,2)\n",
    "sns.countplot(df['Gender'], hue = df['Response'],palette=\"husl\")\n",
    "plt.title(\"Response in Male and female category\")\n",
    "plt.show()"
   ]
  },
  {
   "cell_type": "code",
   "execution_count": null,
   "metadata": {},
   "outputs": [],
   "source": [
    "sns.boxplot(df['Age'])"
   ]
  },
  {
   "cell_type": "code",
   "execution_count": null,
   "metadata": {},
   "outputs": [],
   "source": [
    "sns.countplot(df['Driving_License'],hue=df['Response'])"
   ]
  },
  {
   "cell_type": "code",
   "execution_count": null,
   "metadata": {},
   "outputs": [],
   "source": [
    "sns.countplot(x='Previously_Insured',hue='Response',data=df,palette='husl')"
   ]
  },
  {
   "cell_type": "code",
   "execution_count": null,
   "metadata": {},
   "outputs": [],
   "source": [
    "sns.countplot(x='Vehicle_Age',hue='Response',data=df,palette='husl')"
   ]
  },
  {
   "cell_type": "code",
   "execution_count": null,
   "metadata": {},
   "outputs": [],
   "source": [
    "plt.figure(figsize=(13,7))\n",
    "plt.subplot(2,1,2)\n",
    "sns.boxplot(df['Annual_Premium'])\n",
    "plt.title(\"boxplot of Annual premium\")\n",
    "plt.show()"
   ]
  },
  {
   "cell_type": "code",
   "execution_count": null,
   "metadata": {},
   "outputs": [],
   "source": [
    "corr = df.corr()\n",
    "f, ax = plt.subplots(figsize=(10,10))\n",
    "sns.heatmap(corr, ax=ax, annot=True,linewidths=3,cmap='YlGn')\n",
    "plt.title(\"Pearson correlation of Features\", y=1.05, size=15)"
   ]
  },
  {
   "cell_type": "code",
   "execution_count": null,
   "metadata": {},
   "outputs": [],
   "source": [
    "sns.catplot(x='Response',y='Gender',data=df,kind='bar',palette=\"viridis\")\n",
    "plt.title('Gender vs Response',fontsize=15)"
   ]
  },
  {
   "cell_type": "code",
   "execution_count": null,
   "metadata": {},
   "outputs": [],
   "source": [
    "bin=np.linspace(min(df['Age']),max(df['Age']),5)\n",
    "groups=['Young_Age','Medium_Age','Old_Age','Senior_Citizen']\n",
    "df['Age-binned']=pd.cut(df['Age'],bins=bin,labels=groups)"
   ]
  },
  {
   "cell_type": "code",
   "execution_count": null,
   "metadata": {},
   "outputs": [],
   "source": [
    "plt.figure(figsize=(10,8))\n",
    "sns.countplot(df['Age-binned'],hue=df['Response'],palette='viridis')\n",
    "plt.title('Response Vs Age Group')\n",
    "plt.ylabel('Response')"
   ]
  },
  {
   "cell_type": "code",
   "execution_count": null,
   "metadata": {},
   "outputs": [],
   "source": [
    "sns.catplot(x='Gender',y='Age',hue='Previously_Insured',col='Response',data=df,kind='bar',palette='rocket')"
   ]
  },
  {
   "cell_type": "code",
   "execution_count": null,
   "metadata": {},
   "outputs": [],
   "source": [
    "sns.catplot(x='Gender',y='Age',hue='Vehicle_Damage',col='Response',\n",
    "            data=df,kind='bar',palette='rocket')"
   ]
  },
  {
   "cell_type": "code",
   "execution_count": null,
   "metadata": {},
   "outputs": [],
   "source": [
    "fig, axes = plt.subplots(4,2, figsize=(22,20))\n",
    "\n",
    "sns.boxplot(ax=axes[0, 0], data=df, x='Response', y='Gender')\n",
    "sns.boxplot(ax=axes[0, 1], data=df, x='Response', y='Age')\n",
    "sns.boxplot(ax=axes[1, 0], data=df, x='Response', y='Driving_License')\n",
    "sns.boxplot(ax=axes[1, 1], data=df, x='Response', y='Previously_Insured')\n",
    "sns.boxplot(ax=axes[2, 0], data=df, x='Response', y='Vehicle_Age')\n",
    "sns.boxplot(ax=axes[2, 1], data=df, x='Response', y='Vehicle_Damage')\n",
    "sns.boxplot(ax=axes[3, 0], data=df, x='Response', y='Annual_Premium')\n",
    "sns.boxplot(ax=axes[3, 1], data=df, x='Response', y='Vintage')"
   ]
  },
  {
   "cell_type": "code",
   "execution_count": null,
   "metadata": {},
   "outputs": [],
   "source": [
    "def outlier_treatment(datacolumn):\n",
    "     sorted(datacolumn)\n",
    "     Q1,Q3 = np.percentile(datacolumn , [25,75])\n",
    "     IQR = Q3 - Q1\n",
    "     lower_range = Q1 - (1.5 * IQR)\n",
    "     upper_range = Q3 + (1.5 * IQR)\n",
    "     return lower_range,upper_range"
   ]
  },
  {
   "cell_type": "code",
   "execution_count": null,
   "metadata": {},
   "outputs": [],
   "source": [
    "lowerbound,upperbound = outlier_treatment(df.Annual_Premium)"
   ]
  },
  {
   "cell_type": "code",
   "execution_count": null,
   "metadata": {},
   "outputs": [],
   "source": [
    "df[(df.Annual_Premium < lowerbound) | (df.Annual_Premium > upperbound)]\n",
    "df.drop(df[ (df.Annual_Premium > upperbound) | (df.Annual_Premium < lowerbound) ].index , inplace=True)"
   ]
  },
  {
   "cell_type": "code",
   "execution_count": null,
   "metadata": {},
   "outputs": [],
   "source": [
    "sns.boxplot( x='Response', y='Annual_Premium',data=df,palette='Spectral')"
   ]
  },
  {
   "cell_type": "code",
   "execution_count": null,
   "metadata": {},
   "outputs": [],
   "source": [
    "df['Gender'] = pd.get_dummies(df['Gender'],drop_first=True)"
   ]
  },
  {
   "cell_type": "code",
   "execution_count": null,
   "metadata": {},
   "outputs": [],
   "source": [
    "label = LabelEncoder()\n",
    "df['Vehicle_Age']=label.fit_transform(df['Vehicle_Age'])\n",
    "df['Vehicle_Damage']=label.fit_transform(df['Vehicle_Damage'])\n",
    "df['Gender']=pd.get_dummies(df[\"Gender\"],drop_first=True)"
   ]
  },
  {
   "cell_type": "code",
   "execution_count": null,
   "metadata": {},
   "outputs": [],
   "source": [
    "feature = [ 'Gender', 'Driving_License', \n",
    "       'Previously_Insured', 'Vehicle_Age', 'Vehicle_Damage','Vintage'\n",
    "       'Response']"
   ]
  },
  {
   "cell_type": "code",
   "execution_count": null,
   "metadata": {},
   "outputs": [],
   "source": [
    "x=df.iloc[:,:-1]\n",
    "y=df['Response']"
   ]
  },
  {
   "cell_type": "code",
   "execution_count": null,
   "metadata": {},
   "outputs": [],
   "source": [
    "from imblearn.over_sampling import RandomOverSampler"
   ]
  },
  {
   "cell_type": "code",
   "execution_count": null,
   "metadata": {},
   "outputs": [],
   "source": [
    "randomsample=  RandomOverSampler()\n",
    "x_new,y_new=randomsample.fit_resample(x,y)\n",
    "\n",
    "from collections import Counter\n",
    "print('Original dataset shape {}'.format(Counter(y)))\n",
    "print('Resampled dataset shape {}'.format(Counter(y_new)))\n",
    "sns.countplot(y_new,palette='husl')"
   ]
  },
  {
   "cell_type": "code",
   "execution_count": null,
   "metadata": {},
   "outputs": [],
   "source": [
    "x_train,x_test,y_train,y_test=train_test_split(x_new,y_new,test_size=0.3,random_state=0)"
   ]
  },
  {
   "cell_type": "code",
   "execution_count": null,
   "metadata": {},
   "outputs": [],
   "source": [
    "scaler = StandardScaler().fit(x_train)\n",
    "x_train = scaler.transform(x_train)\n",
    "x_test = scaler.transform(x_test)"
   ]
  },
  {
   "cell_type": "code",
   "execution_count": null,
   "metadata": {},
   "outputs": [],
   "source": [
    "lr=LogisticRegression(random_state = 666,n_jobs = -1)\n",
    "clf_l = lr.fit(x_train,y_train)\n",
    "y_pred_log = clf_l.predict(x_test)\n",
    "print(accuracy_score(y_test,y_pred_log)*100)\n",
    "print(roc_auc_score(y_test,y_pred_log)*100)"
   ]
  },
  {
   "cell_type": "code",
   "execution_count": null,
   "metadata": {},
   "outputs": [],
   "source": [
    "from sklearn.tree import DecisionTreeClassifier\n",
    "from sklearn import tree\n",
    "import matplotlib.pyplot as plt\n",
    "\n",
    "df_model1 = DecisionTreeClassifier()\n",
    "df_model1.fit(x_train,y_train)"
   ]
  },
  {
   "cell_type": "code",
   "execution_count": null,
   "metadata": {},
   "outputs": [],
   "source": [
    "smote = SMOTE(random_state=1,n_jobs=-1)\n",
    "x_sample,y_sample = smote.fit_resample(df.iloc[:,:-1],df['Response'])"
   ]
  },
  {
   "cell_type": "code",
   "execution_count": null,
   "metadata": {},
   "outputs": [],
   "source": [
    "x_frame = pd.DataFrame(x_sample,columns=['Gender', 'Age', 'Driving_License', 'Previously_Insured', 'Vehicle_Age',\n",
    "                              'Vehicle_Damage', 'Annual_Premium', 'Vintage'])\n",
    "y_frame = pd.DataFrame(y_sample,columns=['Response'])"
   ]
  },
  {
   "cell_type": "code",
   "execution_count": null,
   "metadata": {},
   "outputs": [],
   "source": [
    "x1=x_frame.drop(['Driving_License'],axis=1,inplace=True)\n",
    "x1=x_frame.copy()"
   ]
  },
  {
   "cell_type": "code",
   "execution_count": null,
   "metadata": {},
   "outputs": [],
   "source": [
    "x_train1,x_test1,y_train1,y_test1=train_test_split(x1,y1,test_size=0.5,random_state=42)"
   ]
  },
  {
   "cell_type": "code",
   "execution_count": null,
   "metadata": {},
   "outputs": [],
   "source": [
    "scaler = StandardScaler().fit(x_train1)\n",
    "x_train_s = scaler.transform(x_train1)\n",
    "x_test_s = scaler.transform(x_test1)"
   ]
  },
  {
   "cell_type": "code",
   "execution_count": null,
   "metadata": {},
   "outputs": [],
   "source": [
    "lr=LogisticRegression(random_state = 666,n_jobs = -1)\n",
    "clf_l = lr.fit(x_train_s,y_train1)\n",
    "y_pred_log = clf_l.predict(x_test_s)\n",
    "print(accuracy_score(y_test1,y_pred_log)*100)\n",
    "print(roc_auc_score(y_test1,y_pred_log)*100)\n",
    "\n",
    "lr.score(x_train_s,y_train1)"
   ]
  },
  {
   "cell_type": "code",
   "execution_count": null,
   "metadata": {},
   "outputs": [],
   "source": [
    "logreg_tuning = LogisticRegression()\n",
    "param_logreg = {'C': [1, 0.5, 0.1, 5, 9],\n",
    "               'penalty':['l2','l1', 'elasticnet']}"
   ]
  },
  {
   "cell_type": "code",
   "execution_count": null,
   "metadata": {},
   "outputs": [],
   "source": [
    "from sklearn.model_selection import GridSearchCV\n",
    "model_logreg_tuned = GridSearchCV(estimator = logreg_tuning, param_grid = param_logreg, cv = 3, n_jobs = -1 , verbose = 1, scoring = 'recall')\n",
    "model_logreg_tuned.fit(x_train_s, y_train1)\n",
    "logreg_tuned = model_logreg_tuned.best_estimator_\n",
    "y_tuned_logreg = logreg_tuned.predict(x_test_s)\n",
    "logreg_tuned.score(x_train_s,y_train1)"
   ]
  },
  {
   "cell_type": "code",
   "execution_count": null,
   "metadata": {},
   "outputs": [],
   "source": [
    "DT_tuning = DecisionTreeClassifier()\n",
    "param_DT =  {\n",
    "    \"max_depth\": [None, 4,9,15,20,50],\n",
    "    \"min_samples_leaf\": [ 1,4,0.1,2,10],\n",
    "    \"max_features\" : [None, 0.2, 0.8, 2.0],\n",
    "    \"min_samples_split\": [2,9,15,25]}"
   ]
  },
  {
   "cell_type": "code",
   "execution_count": null,
   "metadata": {},
   "outputs": [],
   "source": [
    "model_DT_tuned = GridSearchCV(estimator = DT_tuning, param_grid = param_DT, cv = 5, n_jobs = -1 , verbose = 1, scoring = 'recall')\n",
    "model_DT_tuned.fit(x_train_s,y_train1)\n",
    "DT_tuned = model_DT_tuned.best_estimator_\n",
    "y_tuned_DT = DT_tuned.predict(x_test_s)\n",
    "DT_tuned.score(x_train_s,y_train1)"
   ]
  }
 ],
 "metadata": {
  "language_info": {
   "name": "python"
  },
  "orig_nbformat": 4
 },
 "nbformat": 4,
 "nbformat_minor": 2
}
